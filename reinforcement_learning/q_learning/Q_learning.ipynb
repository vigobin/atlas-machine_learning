{
  "nbformat": 4,
  "nbformat_minor": 0,
  "metadata": {
    "colab": {
      "provenance": []
    },
    "kernelspec": {
      "name": "python3",
      "display_name": "Python 3"
    },
    "language_info": {
      "name": "python"
    }
  },
  "cells": [
    {
      "cell_type": "code",
      "source": [
        "pip install gym==0.13"
      ],
      "metadata": {
        "id": "2z4eh3dk5eGv"
      },
      "execution_count": null,
      "outputs": []
    },
    {
      "cell_type": "code",
      "source": [
        "import gym.envs.toy_text.frozen_lake as fl\n",
        "import numpy as np"
      ],
      "metadata": {
        "id": "h758XQlfZYae"
      },
      "execution_count": 1,
      "outputs": []
    },
    {
      "cell_type": "code",
      "execution_count": 2,
      "metadata": {
        "id": "X3qSyfQUYHdH"
      },
      "outputs": [],
      "source": [
        "def load_frozen_lake(desc=None, map_name=None, is_slippery=False):\n",
        "    if desc is None and map_name is None:\n",
        "        desc = fl.generate_random_map(size=8)\n",
        "    env = fl.FrozenLakeEnv(desc=desc, map_name=map_name, is_slippery=is_slippery)\n",
        "    return env"
      ]
    },
    {
      "cell_type": "code",
      "source": [
        "# load_frozen_lake = __import__('0-load_env').load_frozen_lake\n",
        "import numpy as np\n",
        "\n",
        "np.random.seed(0)\n",
        "env = load_frozen_lake()\n",
        "print(env.desc)\n",
        "print(env.P[0][0])\n",
        "env = load_frozen_lake(is_slippery=True)\n",
        "print(env.desc)\n",
        "print(env.P[0][0])\n",
        "desc = [['S', 'F', 'F'], ['F', 'H', 'H'], ['F', 'F', 'G']]\n",
        "env = load_frozen_lake(desc=desc)\n",
        "print(env.desc)\n",
        "env = load_frozen_lake(map_name='4x4')\n",
        "print(env.desc)"
      ],
      "metadata": {
        "colab": {
          "base_uri": "https://localhost:8080/"
        },
        "id": "fAtiMbETZjwh",
        "outputId": "24de36da-84b1-4113-8006-ecd69a4e5410"
      },
      "execution_count": 3,
      "outputs": [
        {
          "output_type": "stream",
          "name": "stdout",
          "text": [
            "[[b'S' b'F' b'F' b'F' b'F' b'F' b'F' b'H']\n",
            " [b'H' b'F' b'F' b'F' b'F' b'H' b'F' b'F']\n",
            " [b'F' b'H' b'F' b'H' b'H' b'F' b'F' b'F']\n",
            " [b'F' b'F' b'F' b'H' b'F' b'F' b'F' b'F']\n",
            " [b'F' b'F' b'F' b'F' b'F' b'F' b'H' b'F']\n",
            " [b'F' b'F' b'F' b'F' b'F' b'F' b'F' b'F']\n",
            " [b'F' b'F' b'F' b'F' b'H' b'F' b'F' b'F']\n",
            " [b'F' b'F' b'F' b'F' b'F' b'F' b'F' b'G']]\n",
            "[(1.0, 0, 0.0, False)]\n",
            "[[b'S' b'F' b'H' b'F' b'H' b'F' b'H' b'F']\n",
            " [b'H' b'F' b'F' b'F' b'F' b'F' b'F' b'F']\n",
            " [b'F' b'F' b'F' b'F' b'F' b'F' b'F' b'F']\n",
            " [b'F' b'H' b'F' b'F' b'F' b'F' b'F' b'F']\n",
            " [b'F' b'F' b'H' b'F' b'F' b'F' b'F' b'H']\n",
            " [b'F' b'F' b'F' b'F' b'F' b'H' b'F' b'H']\n",
            " [b'F' b'F' b'H' b'F' b'H' b'F' b'H' b'F']\n",
            " [b'F' b'F' b'H' b'F' b'F' b'F' b'F' b'G']]\n",
            "[(0.3333333333333333, 0, 0.0, False), (0.3333333333333333, 0, 0.0, False), (0.3333333333333333, 8, 0.0, True)]\n",
            "[[b'S' b'F' b'F']\n",
            " [b'F' b'H' b'H']\n",
            " [b'F' b'F' b'G']]\n",
            "[[b'S' b'F' b'F' b'F']\n",
            " [b'F' b'H' b'F' b'H']\n",
            " [b'F' b'F' b'F' b'H']\n",
            " [b'H' b'F' b'F' b'G']]\n"
          ]
        }
      ]
    },
    {
      "cell_type": "code",
      "source": [
        "def q_init(env):\n",
        "    # The Q-table has a row for each state (env.observation_space.n)\n",
        "    # and a column for each action (env.action_space.n)\n",
        "    q_table = np.zeros([env.observation_space.n, env.action_space.n])\n",
        "    return q_table"
      ],
      "metadata": {
        "id": "gAvqFrNdcpnf"
      },
      "execution_count": 4,
      "outputs": []
    },
    {
      "cell_type": "code",
      "source": [
        "# load_frozen_lake = __import__('0-load_env').load_frozen_lake\n",
        "# q_init = __import__('1-q_init').q_init\n",
        "\n",
        "env = load_frozen_lake()\n",
        "Q = q_init(env)\n",
        "print(Q.shape)\n",
        "env = load_frozen_lake(is_slippery=True)\n",
        "Q = q_init(env)\n",
        "print(Q.shape)\n",
        "desc = [['S', 'F', 'F'], ['F', 'H', 'H'], ['F', 'F', 'G']]\n",
        "env = load_frozen_lake(desc=desc)\n",
        "Q = q_init(env)\n",
        "print(Q.shape)\n",
        "env = load_frozen_lake(map_name='4x4')\n",
        "Q = q_init(env)\n",
        "print(Q.shape)"
      ],
      "metadata": {
        "colab": {
          "base_uri": "https://localhost:8080/"
        },
        "id": "Ft_KGd8Zc3y8",
        "outputId": "985ecb86-f528-4f07-b27a-186736357aa2"
      },
      "execution_count": 6,
      "outputs": [
        {
          "output_type": "stream",
          "name": "stdout",
          "text": [
            "(64, 4)\n",
            "(64, 4)\n",
            "(9, 4)\n",
            "(16, 4)\n"
          ]
        }
      ]
    },
    {
      "cell_type": "code",
      "source": [
        "\"\"\"Epsilon Greedy\"\"\"\n",
        "def epsilon_greedy(Q, state, epsilon):\n",
        "    \"\"\"Uses epsilon-greedy to determine the next action:\n",
        "    Q is a numpy.ndarray containing the q-table\n",
        "    state is the current state\n",
        "    epsilon is the epsilon to use for the calculation\n",
        "    Sample p with numpy.random.uniformn to determine if\n",
        "        algorithm should explore or exploit.\n",
        "    If exploring, pick the next action with numpy.random.randint\n",
        "        from all possible actions.\n",
        "    Returns: the next action index.\"\"\"\n",
        "    if np.random.uniform(0, 1) < epsilon:\n",
        "        action_index = np.random.randint(Q.shape[1])\n",
        "    else:\n",
        "        action_index = np.argmax(Q[state, :])\n",
        "\n",
        "    return action_index"
      ],
      "metadata": {
        "id": "eQcXk0ojfteD"
      },
      "execution_count": 7,
      "outputs": []
    },
    {
      "cell_type": "code",
      "source": [
        "# load_frozen_lake = __import__('0-load_env').load_frozen_lake\n",
        "# q_init = __import__('1-q_init').q_init\n",
        "# epsilon_greedy = __import__('2-epsilon_greedy').epsilon_greedy\n",
        "import numpy as np\n",
        "\n",
        "desc = [['S', 'F', 'F'], ['F', 'H', 'H'], ['F', 'F', 'G']]\n",
        "env = load_frozen_lake(desc=desc)\n",
        "Q = q_init(env)\n",
        "Q[7] = np.array([0.5, 0.7, 1, -1])\n",
        "np.random.seed(0)\n",
        "print(epsilon_greedy(Q, 7, 0.5))\n",
        "np.random.seed(1)\n",
        "print(epsilon_greedy(Q, 7, 0.5))"
      ],
      "metadata": {
        "colab": {
          "base_uri": "https://localhost:8080/"
        },
        "id": "pQjmu1UPfzAa",
        "outputId": "f449f5c4-c479-4cef-a952-f7e8ad033a87"
      },
      "execution_count": 8,
      "outputs": [
        {
          "output_type": "stream",
          "name": "stdout",
          "text": [
            "2\n",
            "0\n"
          ]
        }
      ]
    },
    {
      "cell_type": "code",
      "source": [
        "def train(env, Q, episodes=5000, max_steps=100, alpha=0.1, gamma=0.99, epsilon=1, min_epsilon=0.1, epsilon_decay=0.05):\n",
        "    total_rewards = []\n",
        "    for episode in range(episodes):\n",
        "        state = env.reset()\n",
        "        episode_reward = 0\n",
        "\n",
        "        for step in range(max_steps):\n",
        "            if np.random.uniform(0, 1) < epsilon:\n",
        "                action = env.action_space.sample()\n",
        "            else:\n",
        "                action = np.argmax(Q[state, :])\n",
        "\n",
        "            result = env.step(action)\n",
        "            next_state, reward, done, _ = result[:4]\n",
        "\n",
        "            Q[state, action] = Q[\n",
        "                state, action] + alpha * (\n",
        "                    reward + gamma * np.max(\n",
        "                        Q[next_state, :]) - Q[\n",
        "                            state, action])\n",
        "\n",
        "            state = next_state\n",
        "            episode_reward += reward\n",
        "\n",
        "            if done:\n",
        "                break\n",
        "\n",
        "        total_rewards.append(episode_reward)\n",
        "\n",
        "        epsilon = max(min_epsilon, epsilon - epsilon_decay)\n",
        "\n",
        "    return Q, total_rewards"
      ],
      "metadata": {
        "id": "VlaVz73Jih1I"
      },
      "execution_count": 17,
      "outputs": []
    },
    {
      "cell_type": "code",
      "source": [
        "# load_frozen_lake = __import__('0-load_env').load_frozen_lake\n",
        "# q_init = __import__('1-q_init').q_init\n",
        "# train = __import__('3-q_learning').train\n",
        "\n",
        "np.random.seed(0)\n",
        "desc = [['S', 'F', 'F'], ['F', 'H', 'H'], ['F', 'F', 'G']]\n",
        "env = load_frozen_lake(desc=desc)\n",
        "Q = q_init(env)\n",
        "\n",
        "Q, total_rewards  = train(env, Q)\n",
        "print(Q)\n",
        "split_rewards = np.split(np.array(total_rewards), 10)\n",
        "for i, rewards in enumerate(split_rewards):\n",
        "    print((i+1) * 500, ':', np.mean(rewards))"
      ],
      "metadata": {
        "colab": {
          "base_uri": "https://localhost:8080/"
        },
        "id": "YSiJOZAsimNE",
        "outputId": "20c56192-a884-44e3-e3ff-4464cc8f4e12"
      },
      "execution_count": 18,
      "outputs": [
        {
          "output_type": "stream",
          "name": "stdout",
          "text": [
            "[[0.96059303 0.970299   0.9509837  0.96059577]\n",
            " [0.96059559 0.         0.02422346 0.45768631]\n",
            " [0.24418881 0.         0.         0.        ]\n",
            " [0.97029775 0.9801     0.         0.96058766]\n",
            " [0.         0.         0.         0.        ]\n",
            " [0.         0.         0.         0.        ]\n",
            " [0.9800989  0.98009985 0.99       0.97029675]\n",
            " [0.98009901 0.98998603 1.         0.        ]\n",
            " [0.         0.         0.         0.        ]]\n",
            "500 : 0.516\n",
            "1000 : 0.94\n",
            "1500 : 0.936\n",
            "2000 : 0.95\n",
            "2500 : 0.93\n",
            "3000 : 0.956\n",
            "3500 : 0.938\n",
            "4000 : 0.948\n",
            "4500 : 0.95\n",
            "5000 : 0.954\n"
          ]
        }
      ]
    },
    {
      "cell_type": "code",
      "source": [
        "def play(env, Q, max_steps=100):\n",
        "    state = env.reset()\n",
        "    total_rewards = 0\n",
        "    for step in range(max_steps):\n",
        "        action = np.argmax(Q[state, :])\n",
        "        state, reward, done, _ = env.step(action)\n",
        "        total_rewards += reward\n",
        "        env.render()\n",
        "        if done:\n",
        "            break\n",
        "    return total_rewards"
      ],
      "metadata": {
        "id": "WFmkjW25dO0a"
      },
      "execution_count": 19,
      "outputs": []
    },
    {
      "cell_type": "code",
      "source": [
        "# load_frozen_lake = __import__('0-load_env').load_frozen_lake\n",
        "# q_init = __import__('1-q_init').q_init\n",
        "# train = __import__('3-q_learning').train\n",
        "# play = __import__('4-play').play\n",
        "\n",
        "import numpy as np\n",
        "\n",
        "np.random.seed(0)\n",
        "desc = [['S', 'F', 'F'], ['F', 'H', 'H'], ['F', 'F', 'G']]\n",
        "env = load_frozen_lake(desc=desc)\n",
        "Q = q_init(env)\n",
        "\n",
        "Q, total_rewards  = train(env, Q)\n",
        "print(play(env, Q))"
      ],
      "metadata": {
        "colab": {
          "base_uri": "https://localhost:8080/"
        },
        "id": "2JuV2r6GdWkj",
        "outputId": "eea487e7-ec2e-4919-ba7e-b7d66b7ae033"
      },
      "execution_count": 20,
      "outputs": [
        {
          "output_type": "stream",
          "name": "stdout",
          "text": [
            "  (Down)\n",
            "SFF\n",
            "\u001b[41mF\u001b[0mHH\n",
            "FFG\n",
            "  (Down)\n",
            "SFF\n",
            "FHH\n",
            "\u001b[41mF\u001b[0mFG\n",
            "  (Right)\n",
            "SFF\n",
            "FHH\n",
            "F\u001b[41mF\u001b[0mG\n",
            "  (Right)\n",
            "SFF\n",
            "FHH\n",
            "FF\u001b[41mG\u001b[0m\n",
            "1.0\n"
          ]
        }
      ]
    }
  ]
}
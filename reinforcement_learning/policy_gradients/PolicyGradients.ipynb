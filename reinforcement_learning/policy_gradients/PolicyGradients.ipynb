{
  "nbformat": 4,
  "nbformat_minor": 0,
  "metadata": {
    "colab": {
      "provenance": []
    },
    "kernelspec": {
      "name": "python3",
      "display_name": "Python 3"
    },
    "language_info": {
      "name": "python"
    }
  },
  "cells": [
    {
      "cell_type": "code",
      "execution_count": 2,
      "metadata": {
        "id": "HcNeSIZe2aYT"
      },
      "outputs": [],
      "source": [
        "import numpy as np\n",
        "\n",
        "def policy(matrix, weight):\n",
        "    \"\"\"Function that computes to policy with a weight of a matrix.\"\"\"\n",
        "    weighted_matrix = matrix.dot(weight)\n",
        "    input_exp = np.exp(weighted_matrix)\n",
        "    policy = input_exp / np.sum(input_exp)\n",
        "\n",
        "    return policy"
      ]
    },
    {
      "cell_type": "code",
      "source": [
        "#!/usr/bin/env python3\n",
        "\"\"\"\n",
        "Main file\n",
        "\"\"\"\n",
        "import numpy as np\n",
        "# from policy_gradient import policy\n",
        "\n",
        "\n",
        "weight = np.ndarray((4, 2), buffer=np.array([\n",
        "    [4.17022005e-01, 7.20324493e-01],\n",
        "    [1.14374817e-04, 3.02332573e-01],\n",
        "    [1.46755891e-01, 9.23385948e-02],\n",
        "    [1.86260211e-01, 3.45560727e-01]\n",
        "    ]))\n",
        "state = np.ndarray((1, 4), buffer=np.array([\n",
        "    [-0.04428214,  0.01636746,  0.01196594, -0.03095031]\n",
        "    ]))\n",
        "\n",
        "res = policy(state, weight)\n",
        "print(res)\n"
      ],
      "metadata": {
        "colab": {
          "base_uri": "https://localhost:8080/"
        },
        "id": "5lL1Cpto3P63",
        "outputId": "718d9953-ef91-4059-9fc2-0cc57a256263"
      },
      "execution_count": 3,
      "outputs": [
        {
          "output_type": "stream",
          "name": "stdout",
          "text": [
            "[[0.50351642 0.49648358]]\n"
          ]
        }
      ]
    },
    {
      "cell_type": "code",
      "source": [
        "import numpy as np\n",
        "\n",
        "def softmax_grad(softmax):\n",
        "    s = softmax.reshape(-1, 1)\n",
        "    return np.diagflat(s) - np.dot(s, s.T)\n",
        "\n",
        "def policy_gradient(state, weight):\n",
        "    \"\"\" function that computes the Monte-Carlo policy gradient based on a\n",
        "            state and a weight matrix.\n",
        "        state: matrix representing the current observation of the environment.\n",
        "        weight: matrix of random weight.\n",
        "        Return: the action and the gradient (in this order).\"\"\"\n",
        "    weighted_matrix = state.dot(weight)\n",
        "    input_exp = np.exp(weighted_matrix)\n",
        "    softmax_output = input_exp / np.sum(input_exp)\n",
        "\n",
        "    action = np.random.choice(len(softmax_output[0]), p=softmax_output[0])\n",
        "    dsoftmax = softmax_grad(softmax_output)[action, :]\n",
        "    dlog = dsoftmax / softmax_output[0, action]\n",
        "    gradient = state.T.dot(dlog[None, :])\n",
        "\n",
        "    return action, gradient"
      ],
      "metadata": {
        "id": "w0svKbOgF0vx"
      },
      "execution_count": null,
      "outputs": []
    },
    {
      "cell_type": "code",
      "source": [
        "#!/usr/bin/env python3\n",
        "\"\"\"\n",
        "Main file\n",
        "\"\"\"\n",
        "import gym\n",
        "import numpy as np\n",
        "# from policy_gradient import policy_gradient\n",
        "\n",
        "env = gym.make('CartPole-v1')\n",
        "np.random.seed(1)\n",
        "\n",
        "weight = np.random.rand(4, 2)\n",
        "state = env.reset()[None,:]\n",
        "print(weight)\n",
        "print(state)\n",
        "\n",
        "action, grad = policy_gradient(state, weight)\n",
        "print(action)\n",
        "print(grad)\n",
        "\n",
        "env.close()"
      ],
      "metadata": {
        "colab": {
          "base_uri": "https://localhost:8080/"
        },
        "id": "WSfBj2J_Fznx",
        "outputId": "c3511cb8-60ec-47b8-887b-1d7b68233618"
      },
      "execution_count": 99,
      "outputs": [
        {
          "output_type": "stream",
          "name": "stdout",
          "text": [
            "[[4.17022005e-01 7.20324493e-01]\n",
            " [1.14374817e-04 3.02332573e-01]\n",
            " [1.46755891e-01 9.23385948e-02]\n",
            " [1.86260211e-01 3.45560727e-01]]\n",
            "[[-0.04850201 -0.01894093  0.02140971  0.04085079]]\n",
            "0\n",
            "[[-0.024068    0.024068  ]\n",
            " [-0.009399    0.009399  ]\n",
            " [ 0.01062407 -0.01062407]\n",
            " [ 0.02027126 -0.02027126]]\n"
          ]
        },
        {
          "output_type": "stream",
          "name": "stderr",
          "text": [
            "/usr/local/lib/python3.10/dist-packages/gym/core.py:317: DeprecationWarning: \u001b[33mWARN: Initializing wrapper in old step API which returns one bool instead of two. It is recommended to set `new_step_api=True` to use new step API. This will be the default behaviour in future.\u001b[0m\n",
            "  deprecation(\n",
            "/usr/local/lib/python3.10/dist-packages/gym/wrappers/step_api_compatibility.py:39: DeprecationWarning: \u001b[33mWARN: Initializing environment in old step API which returns one bool instead of two. It is recommended to set `new_step_api=True` to use new step API. This will be the default behaviour in future.\u001b[0m\n",
            "  deprecation(\n"
          ]
        }
      ]
    },
    {
      "cell_type": "code",
      "source": [
        "import numpy as np\n",
        "# from policy_gradient import policy_gradient\n",
        "\n",
        "\n",
        "def train(env, nb_episodes, alpha=0.000045, gamma=0.98):\n",
        "    \"\"\"function that implements a full training\n",
        "        env: initial environment.\n",
        "        nb_episodes: number of episodes used for training.\n",
        "        alpha: the learning rate.\n",
        "        gamma: the discount factor.\n",
        "        Return: all values of the score\n",
        "            (sum of all rewards during one episode loop).\"\"\"\n",
        "    n_states = env.observation_space.shape[0]\n",
        "    n_actions = env.action_space.n\n",
        "    weight = np.random.rand(n_states, n_actions)\n",
        "\n",
        "    scores = []\n",
        "\n",
        "    for episode in range(nb_episodes):\n",
        "        state = env.reset()[None, :]\n",
        "        grads = []\n",
        "        rewards = []\n",
        "        score = 0\n",
        "\n",
        "        while True:\n",
        "            action, grad = policy_gradient(state, weight)\n",
        "\n",
        "            next_state, reward, done, _ = env.step(action)\n",
        "\n",
        "            grads.append(grad)\n",
        "            rewards.append(reward)\n",
        "\n",
        "            score += reward\n",
        "            state = next_state[None, :]\n",
        "\n",
        "            if done:\n",
        "              break\n",
        "\n",
        "        for i in range(len(rewards) - 2, -1, -1):\n",
        "            rewards[i] += rewards[i + 1] * gamma\n",
        "\n",
        "        for grad, reward in zip(grads, rewards):\n",
        "            weight += alpha * grad * reward\n",
        "\n",
        "        scores.append(score)\n",
        "\n",
        "        print(\"Episode: {}, Score: {}\".format(\n",
        "            episode, score), end=\"\\r\", flush=False)\n",
        "\n",
        "    return scores"
      ],
      "metadata": {
        "id": "tUPVnPlRKMXM"
      },
      "execution_count": 104,
      "outputs": []
    },
    {
      "cell_type": "code",
      "source": [
        "\n",
        "#!/usr/bin/env python3\n",
        "\"\"\"\n",
        "Main file\n",
        "\"\"\"\n",
        "import gym\n",
        "import matplotlib.pyplot as plt\n",
        "import numpy as np\n",
        "\n",
        "# from train import train\n",
        "\n",
        "env = gym.make('CartPole-v1')\n",
        "\n",
        "scores = train(env, 10000)\n",
        "\n",
        "plt.plot(np.arange(len(scores)), scores)\n",
        "plt.show()\n",
        "env.close()"
      ],
      "metadata": {
        "colab": {
          "base_uri": "https://localhost:8080/",
          "height": 519
        },
        "id": "w6jaetOrKKLO",
        "outputId": "ba41dfe7-804f-48cd-ddb4-709435938591"
      },
      "execution_count": 105,
      "outputs": [
        {
          "output_type": "stream",
          "name": "stderr",
          "text": [
            "/usr/local/lib/python3.10/dist-packages/gym/core.py:317: DeprecationWarning: \u001b[33mWARN: Initializing wrapper in old step API which returns one bool instead of two. It is recommended to set `new_step_api=True` to use new step API. This will be the default behaviour in future.\u001b[0m\n",
            "  deprecation(\n",
            "/usr/local/lib/python3.10/dist-packages/gym/wrappers/step_api_compatibility.py:39: DeprecationWarning: \u001b[33mWARN: Initializing environment in old step API which returns one bool instead of two. It is recommended to set `new_step_api=True` to use new step API. This will be the default behaviour in future.\u001b[0m\n",
            "  deprecation(\n"
          ]
        },
        {
          "output_type": "stream",
          "name": "stdout",
          "text": []
        },
        {
          "output_type": "display_data",
          "data": {
            "text/plain": [
              "<Figure size 640x480 with 1 Axes>"
            ],
            "image/png": "[encoded data removed]"
          },
          "metadata": {}
        }
      ]
    },
    {
      "cell_type": "code",
      "source": [
        "import numpy as np\n",
        "# from policy_gradient import policy_gradient\n",
        "\n",
        "\n",
        "def train1(env, nb_episodes, alpha=0.000045, gamma=0.98, show_result=False):\n",
        "    \"\"\"function that implements a full training\n",
        "        env: initial environment.\n",
        "        nb_episodes: number of episodes used for training.\n",
        "        alpha: the learning rate.\n",
        "        gamma: the discount factor.\n",
        "        show_result (default: False). When this parameter is True,\n",
        "          render the environment every 1000 episodes computed.\n",
        "        Return: all values of the score\n",
        "            (sum of all rewards during one episode loop).\"\"\"\n",
        "    n_states = env.observation_space.shape[0]\n",
        "    n_actions = env.action_space.n\n",
        "    weight = np.random.rand(n_states, n_actions)\n",
        "\n",
        "    scores = []\n",
        "\n",
        "    for episode in range(nb_episodes):\n",
        "        state = env.reset()[None, :]\n",
        "        grads = []\n",
        "        rewards = []\n",
        "        score = 0\n",
        "\n",
        "        while True:\n",
        "            action, grad = policy_gradient(state, weight)\n",
        "\n",
        "            next_state, reward, done, _ = env.step(action)\n",
        "\n",
        "            grads.append(grad)\n",
        "            rewards.append(reward)\n",
        "\n",
        "            score += reward\n",
        "            state = next_state[None, :]\n",
        "\n",
        "            if done:\n",
        "              break\n",
        "\n",
        "        scores.append(score)\n",
        "\n",
        "        for i in range(len(rewards) - 2, -1, -1):\n",
        "            rewards[i] += rewards[i + 1] * gamma\n",
        "\n",
        "        for grad, reward in zip(grads, rewards):\n",
        "            weight += alpha * grad * reward\n",
        "\n",
        "        if show_result and episode % 1000 == 0:\n",
        "           print(\"Episode: {}, Score: {}\".format(episode, score))\n",
        "           env.render(mode='human')\n",
        "\n",
        "    return scores"
      ],
      "metadata": {
        "id": "G6f4Ejdlwb2Q"
      },
      "execution_count": 106,
      "outputs": []
    },
    {
      "cell_type": "code",
      "source": [
        "#!/usr/bin/env python3\n",
        "\"\"\"\n",
        "Main file\n",
        "\"\"\"\n",
        "import gym\n",
        "\n",
        "# from train import train\n",
        "\n",
        "env = gym.make('CartPole-v1')\n",
        "\n",
        "scores = train1(env, 10000, 0.000045, 0.98, True)\n",
        "\n",
        "env.close()\n"
      ],
      "metadata": {
        "colab": {
          "base_uri": "https://localhost:8080/"
        },
        "id": "l0jVtNJEcjn0",
        "outputId": "5804048d-d9d1-477f-e38d-62ec575f75e1"
      },
      "execution_count": 107,
      "outputs": [
        {
          "output_type": "stream",
          "name": "stdout",
          "text": [
            "Episode: 0, Score: 25.0\n"
          ]
        },
        {
          "output_type": "stream",
          "name": "stderr",
          "text": [
            "/usr/local/lib/python3.10/dist-packages/gym/core.py:43: DeprecationWarning: \u001b[33mWARN: The argument mode in render method is deprecated; use render_mode during environment initialization instead.\n",
            "See here for more information: https://www.gymlibrary.ml/content/api/\u001b[0m\n",
            "  deprecation(\n"
          ]
        },
        {
          "output_type": "stream",
          "name": "stdout",
          "text": [
            "Episode: 1000, Score: 22.0\n",
            "Episode: 2000, Score: 212.0\n",
            "Episode: 3000, Score: 147.0\n",
            "Episode: 4000, Score: 281.0\n",
            "Episode: 5000, Score: 336.0\n",
            "Episode: 6000, Score: 386.0\n",
            "Episode: 7000, Score: 474.0\n",
            "Episode: 8000, Score: 500.0\n",
            "Episode: 9000, Score: 500.0\n"
          ]
        }
      ]
    }
  ]
}
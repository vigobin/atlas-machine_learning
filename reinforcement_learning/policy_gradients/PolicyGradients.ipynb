{
  "nbformat": 4,
  "nbformat_minor": 0,
  "metadata": {
    "colab": {
      "provenance": []
    },
    "kernelspec": {
      "name": "python3",
      "display_name": "Python 3"
    },
    "language_info": {
      "name": "python"
    }
  },
  "cells": [
    {
      "cell_type": "code",
      "execution_count": 16,
      "metadata": {
        "id": "HcNeSIZe2aYT"
      },
      "outputs": [],
      "source": [
        "import numpy as np\n",
        "\n",
        "def policy(matrix, weight):\n",
        "    weighted_matrix = matrix.dot(weight)\n",
        "    input_exp = np.exp(weighted_matrix)\n",
        "    policy = input_exp / np.sum(input_exp)\n",
        "\n",
        "    return policy"
      ]
    },
    {
      "cell_type": "code",
      "source": [
        "#!/usr/bin/env python3\n",
        "\"\"\"\n",
        "Main file\n",
        "\"\"\"\n",
        "import numpy as np\n",
        "# from policy_gradient import policy\n",
        "\n",
        "\n",
        "weight = np.ndarray((4, 2), buffer=np.array([\n",
        "    [4.17022005e-01, 7.20324493e-01],\n",
        "    [1.14374817e-04, 3.02332573e-01],\n",
        "    [1.46755891e-01, 9.23385948e-02],\n",
        "    [1.86260211e-01, 3.45560727e-01]\n",
        "    ]))\n",
        "state = np.ndarray((1, 4), buffer=np.array([\n",
        "    [-0.04428214,  0.01636746,  0.01196594, -0.03095031]\n",
        "    ]))\n",
        "\n",
        "res = policy(state, weight)\n",
        "print(res)\n"
      ],
      "metadata": {
        "colab": {
          "base_uri": "https://localhost:8080/"
        },
        "id": "5lL1Cpto3P63",
        "outputId": "a4df4b44-412b-4e35-b497-5615dd6d3d07"
      },
      "execution_count": 17,
      "outputs": [
        {
          "output_type": "stream",
          "name": "stdout",
          "text": [
            "[[0.50351642 0.49648358]]\n"
          ]
        }
      ]
    },
    {
      "cell_type": "code",
      "source": [
        "import numpy as np\n",
        "\n",
        "def softmax_grad(softmax):\n",
        "    s = softmax.reshape(-1, 1)\n",
        "    return np.diagflat(s) - np.dot(s, s.T)\n",
        "\n",
        "def policy_gradient(state, weight):\n",
        "    weighted_matrix = state.dot(weight)\n",
        "    input_exp = np.exp(weighted_matrix)\n",
        "    softmax_output = input_exp / np.sum(input_exp)\n",
        "\n",
        "    action = np.argmax(softmax_output)\n",
        "    dsoftmax = softmax_grad(softmax_output)[action, :]\n",
        "    dlog = dsoftmax / softmax_output[0, action]\n",
        "    gradient = state.T.dot(dlog[None, :])\n",
        "\n",
        "    return action, gradient"
      ],
      "metadata": {
        "id": "w0svKbOgF0vx"
      },
      "execution_count": 39,
      "outputs": []
    },
    {
      "cell_type": "code",
      "source": [
        "#!/usr/bin/env python3\n",
        "\"\"\"\n",
        "Main file\n",
        "\"\"\"\n",
        "import gym\n",
        "import numpy as np\n",
        "# from policy_gradient import policy_gradient\n",
        "\n",
        "env = gym.make('CartPole-v1')\n",
        "np.random.seed(1)\n",
        "\n",
        "weight = np.random.rand(4, 2)\n",
        "state = env.reset()[None,:]\n",
        "print(weight)\n",
        "print(state)\n",
        "\n",
        "action, grad = policy_gradient(state, weight)\n",
        "print(action)\n",
        "print(grad)\n",
        "\n",
        "env.close()"
      ],
      "metadata": {
        "colab": {
          "base_uri": "https://localhost:8080/"
        },
        "id": "WSfBj2J_Fznx",
        "outputId": "460cb9d3-a676-4720-bd4c-14fe559dba08"
      },
      "execution_count": 40,
      "outputs": [
        {
          "output_type": "stream",
          "name": "stdout",
          "text": [
            "[[4.17022005e-01 7.20324493e-01]\n",
            " [1.14374817e-04 3.02332573e-01]\n",
            " [1.46755891e-01 9.23385948e-02]\n",
            " [1.86260211e-01 3.45560727e-01]]\n",
            "[[ 0.02914771  0.00652478 -0.03260821 -0.00882974]]\n",
            "1\n",
            "[[-0.01449239  0.01449239]\n",
            " [-0.00324415  0.00324415]\n",
            " [ 0.01621296 -0.01621296]\n",
            " [ 0.00439019 -0.00439019]]\n"
          ]
        }
      ]
    },
    {
      "cell_type": "code",
      "source": [
        "import numpy as np\n",
        "\n",
        "def train(env, nb_episodes, alpha=0.000045, gamma=0.98):\n",
        "    n_states = env.observation_space.shape[0]\n",
        "    n_actions = env.action_space.n\n",
        "    weight = np.random.rand(n_states, n_actions)\n",
        "\n",
        "    scores = []\n",
        "\n",
        "    for episode in range(nb_episodes + 1):\n",
        "        state = env.reset()[None, :]\n",
        "        grads = []\n",
        "        rewards = []\n",
        "        score = 0\n",
        "\n",
        "        done = False\n",
        "\n",
        "        while not done:\n",
        "            action, grad = policy_gradient(state, weight)\n",
        "\n",
        "            next_state, reward, done, _ = env.step(action)\n",
        "\n",
        "            grads.append(grad)\n",
        "            rewards.append(reward)\n",
        "\n",
        "            score += reward\n",
        "            state = next_state[None, :]\n",
        "\n",
        "        scores.append(score)\n",
        "\n",
        "        for i in range(len(rewards) - 2, -1, -1):\n",
        "            rewards[i] += rewards[i + 1] * gamma\n",
        "\n",
        "        for grad, reward in zip(grads, rewards):\n",
        "            weight += alpha * grad * reward\n",
        "\n",
        "        print(\"Episode: {}, Score: {}\".format(episode, score), end=\"\\r\", flush=False)\n",
        "\n",
        "    return scores"
      ],
      "metadata": {
        "id": "tUPVnPlRKMXM"
      },
      "execution_count": 75,
      "outputs": []
    },
    {
      "cell_type": "code",
      "source": [
        "#!/usr/bin/env python3\n",
        "\"\"\"\n",
        "Main file\n",
        "\"\"\"\n",
        "import gym\n",
        "import matplotlib.pyplot as plt\n",
        "import numpy as np\n",
        "\n",
        "# from train import train\n",
        "\n",
        "env = gym.make('CartPole-v1')\n",
        "\n",
        "scores = train(env, 10000)\n",
        "\n",
        "plt.plot(np.arange(len(scores)), scores)\n",
        "plt.show()\n",
        "env.close()"
      ],
      "metadata": {
        "colab": {
          "base_uri": "https://localhost:8080/",
          "height": 430
        },
        "id": "w6jaetOrKKLO",
        "outputId": "0da8d58f-bf07-4f7d-ebe1-b9edcdad169c"
      },
      "execution_count": 76,
      "outputs": [
        {
          "output_type": "stream",
          "name": "stdout",
          "text": []
        },
        {
          "output_type": "display_data",
          "data": {
            "text/plain": [
              "<Figure size 640x480 with 1 Axes>"
            ],
            "image/png": "[encoded data removed]"
          },
          "metadata": {}
        }
      ]
    },
    {
      "cell_type": "code",
      "source": [
        "import numpy as np\n",
        "\n",
        "def train1(env, nb_episodes, alpha=0.000045, gamma=0.98, show_result=False):\n",
        "    n_states = env.observation_space.shape[0]\n",
        "    n_actions = env.action_space.n\n",
        "    weight = np.random.rand(n_states, n_actions)\n",
        "\n",
        "    scores = []\n",
        "\n",
        "    for episode in range(nb_episodes + 1):\n",
        "        state = env.reset()[None, :]\n",
        "        grads = []\n",
        "        rewards = []\n",
        "        score = 0\n",
        "\n",
        "        done = False\n",
        "\n",
        "        while not done:\n",
        "            action, grad = policy_gradient(state, weight)\n",
        "\n",
        "            next_state, reward, done, _ = env.step(action)\n",
        "\n",
        "            grads.append(grad)\n",
        "            rewards.append(reward)\n",
        "\n",
        "            score += reward\n",
        "            state = next_state[None, :]\n",
        "\n",
        "        scores.append(score)\n",
        "\n",
        "        for i in range(len(rewards) - 2, -1, -1):\n",
        "            rewards[i] += rewards[i + 1] * gamma\n",
        "\n",
        "        for grad, reward in zip(grads, rewards):\n",
        "            weight += alpha * grad * reward\n",
        "\n",
        "        print(\"Episode: {}, Score: {}\".format(episode, score), end=\"\\r\", flush=False)\n",
        "\n",
        "        if show_result and episode % 1000 == 0:\n",
        "            env.render()\n",
        "\n",
        "    return scores"
      ],
      "metadata": {
        "id": "G6f4Ejdlwb2Q"
      },
      "execution_count": 77,
      "outputs": []
    },
    {
      "cell_type": "code",
      "source": [
        "#!/usr/bin/env python3\n",
        "\"\"\"\n",
        "Main file\n",
        "\"\"\"\n",
        "import gym\n",
        "\n",
        "# from train import train\n",
        "\n",
        "env = gym.make('CartPole-v1')\n",
        "\n",
        "scores = train1(env, 10000, 0.000045, 0.98, True)\n",
        "\n",
        "env.close()\n"
      ],
      "metadata": {
        "colab": {
          "base_uri": "https://localhost:8080/"
        },
        "id": "l0jVtNJEcjn0",
        "outputId": "97c8ae59-daea-48f7-cb33-d38a1355fde8"
      },
      "execution_count": 78,
      "outputs": [
        {
          "output_type": "stream",
          "name": "stderr",
          "text": [
            "/usr/local/lib/python3.10/dist-packages/ipykernel/ipkernel.py:283: DeprecationWarning: `should_run_async` will not call `transform_cell` automatically in the future. Please pass the result to `transformed_cell` argument and any exception that happen during thetransform in `preprocessing_exc_tuple` in IPython 7.17 and above.\n",
            "  and should_run_async(code)\n",
            "/usr/local/lib/python3.10/dist-packages/gym/core.py:317: DeprecationWarning: \u001b[33mWARN: Initializing wrapper in old step API which returns one bool instead of two. It is recommended to set `new_step_api=True` to use new step API. This will be the default behaviour in future.\u001b[0m\n",
            "  deprecation(\n",
            "/usr/local/lib/python3.10/dist-packages/gym/wrappers/step_api_compatibility.py:39: DeprecationWarning: \u001b[33mWARN: Initializing environment in old step API which returns one bool instead of two. It is recommended to set `new_step_api=True` to use new step API. This will be the default behaviour in future.\u001b[0m\n",
            "  deprecation(\n",
            "/usr/local/lib/python3.10/dist-packages/gym/core.py:49: DeprecationWarning: \u001b[33mWARN: You are calling render method, but you didn't specified the argument render_mode at environment initialization. To maintain backward compatibility, the environment will render in human mode.\n",
            "If you want to render in human mode, initialize the environment in this way: gym.make('EnvName', render_mode='human') and don't call the render method.\n",
            "See here for more information: https://www.gymlibrary.ml/content/api/\u001b[0m\n",
            "  deprecation(\n"
          ]
        },
        {
          "output_type": "stream",
          "name": "stdout",
          "text": []
        }
      ]
    }
  ]
}
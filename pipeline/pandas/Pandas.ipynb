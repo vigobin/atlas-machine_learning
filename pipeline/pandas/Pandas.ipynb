{
  "nbformat": 4,
  "nbformat_minor": 0,
  "metadata": {
    "colab": {
      "provenance": []
    },
    "kernelspec": {
      "name": "python3",
      "display_name": "Python 3"
    },
    "language_info": {
      "name": "python"
    }
  },
  "cells": [
    {
      "cell_type": "code",
      "source": [
        "import pandas as pd"
      ],
      "metadata": {
        "id": "NIUq7QzZj2wl"
      },
      "execution_count": 5,
      "outputs": []
    },
    {
      "cell_type": "code",
      "execution_count": 5,
      "metadata": {
        "id": "i-a5CJk9c5P2"
      },
      "outputs": [],
      "source": [
        "\"\"\"0. From Numpy\"\"\"\n",
        "import numpy as np\n",
        "\n",
        "\n",
        "def from_numpy(array):\n",
        "    \"\"\"Creates a pd.DataFrame from a np.ndarray:\n",
        "        array is the np.ndarray from which you should create the pd.DataFrame.\n",
        "    The columns of the pd.DataFrame should be labeled in alphabetical order\n",
        "        and capitalized. There will not be more than 26 columns.\n",
        "    Returns: the newly created pd.DataFrame.\"\"\"\n",
        "    columns = [chr(i) for i in range(65, 65 + array.shape[1])]\n",
        "\n",
        "    df = pd.DataFrame(array, columns=columns)\n",
        "    return df\n"
      ]
    },
    {
      "cell_type": "code",
      "source": [
        "import numpy as np\n",
        "# from_numpy = __import__('0-from_numpy').from_numpy\n",
        "\n",
        "np.random.seed(0)\n",
        "A = np.random.randn(5, 8)\n",
        "print(from_numpy(A))\n",
        "B = np.random.randn(9, 3)\n",
        "print(from_numpy(B))\n"
      ],
      "metadata": {
        "colab": {
          "base_uri": "https://localhost:8080/"
        },
        "id": "h0oOe2AWd-tX",
        "outputId": "9bba023d-81fb-4968-8a4e-bc8600ed831e"
      },
      "execution_count": 6,
      "outputs": [
        {
          "output_type": "stream",
          "name": "stdout",
          "text": [
            "          A         B         C         D         E         F         G  \\\n",
            "0  1.764052  0.400157  0.978738  2.240893  1.867558 -0.977278  0.950088   \n",
            "1 -0.103219  0.410599  0.144044  1.454274  0.761038  0.121675  0.443863   \n",
            "2  1.494079 -0.205158  0.313068 -0.854096 -2.552990  0.653619  0.864436   \n",
            "3  2.269755 -1.454366  0.045759 -0.187184  1.532779  1.469359  0.154947   \n",
            "4 -0.887786 -1.980796 -0.347912  0.156349  1.230291  1.202380 -0.387327   \n",
            "\n",
            "          H  \n",
            "0 -0.151357  \n",
            "1  0.333674  \n",
            "2 -0.742165  \n",
            "3  0.378163  \n",
            "4 -0.302303  \n",
            "          A         B         C\n",
            "0 -1.048553 -1.420018 -1.706270\n",
            "1  1.950775 -0.509652 -0.438074\n",
            "2 -1.252795  0.777490 -1.613898\n",
            "3 -0.212740 -0.895467  0.386902\n",
            "4 -0.510805 -1.180632 -0.028182\n",
            "5  0.428332  0.066517  0.302472\n",
            "6 -0.634322 -0.362741 -0.672460\n",
            "7 -0.359553 -0.813146 -1.726283\n",
            "8  0.177426 -0.401781 -1.630198\n"
          ]
        }
      ]
    },
    {
      "cell_type": "code",
      "source": [
        "\"\"\"1. From Dictionary\"\"\"\n",
        "data = {\n",
        "    'First': [0.0, 0.5, 1.0, 1.5],\n",
        "    'Second': ['one', 'two', 'three', 'four']\n",
        "}\n",
        "\n",
        "df = pd.DataFrame(data, index=['A', 'B', 'C', 'D'])\n"
      ],
      "metadata": {
        "id": "q3RT-GPteRWz"
      },
      "execution_count": 7,
      "outputs": []
    },
    {
      "cell_type": "code",
      "source": [
        "# df = __import__('1-from_dictionary').df\n",
        "\n",
        "print(df)"
      ],
      "metadata": {
        "colab": {
          "base_uri": "https://localhost:8080/"
        },
        "id": "c70Gy2e2eTEe",
        "outputId": "4e8f0eb3-9196-4cd4-e8c3-be960d89e4bc"
      },
      "execution_count": 9,
      "outputs": [
        {
          "output_type": "stream",
          "name": "stdout",
          "text": [
            "   First Second\n",
            "A    0.0    one\n",
            "B    0.5    two\n",
            "C    1.0  three\n",
            "D    1.5   four\n"
          ]
        }
      ]
    },
    {
      "cell_type": "code",
      "source": [
        "\"\"\"2. From File\"\"\"\n",
        "def from_file(filename, delimiter):\n",
        "    \"\"\"Loads data from a file as a pd.DataFrame:\n",
        "        filename is the file to load from\n",
        "        delimiter is the column separator\n",
        "        Returns: the loaded pd.DataFrame.\"\"\"\n",
        "    df = pd.read_csv(filename, delimiter=delimiter)\n",
        "\n",
        "    return df"
      ],
      "metadata": {
        "id": "TCVO0lXWeZFB"
      },
      "execution_count": 2,
      "outputs": []
    },
    {
      "cell_type": "code",
      "source": [
        "from google.colab import drive\n",
        "drive.mount('/Data')"
      ],
      "metadata": {
        "id": "lXfeePCzke97"
      },
      "execution_count": null,
      "outputs": []
    },
    {
      "cell_type": "code",
      "source": [
        "# from_file = __import__('2-from_file').from_file\n",
        "\n",
        "df1 = from_file('/content/drive/MyDrive/Data/coinbaseUSD_1-min_data_2014-12-01_to_2019-01-09.csv', ',')\n",
        "print(df1.head())\n",
        "df2 = from_file('/content/drive/MyDrive/Data/bitstampUSD_1-min_data_2012-01-01_to_2020-04-22.csv', ',')\n",
        "print(df2.tail())"
      ],
      "metadata": {
        "colab": {
          "base_uri": "https://localhost:8080/"
        },
        "id": "IIIc6TkEebFx",
        "outputId": "3dfa83c8-69ed-4458-ad6b-10c7136d7977"
      },
      "execution_count": 7,
      "outputs": [
        {
          "output_type": "stream",
          "name": "stdout",
          "text": [
            "    Timestamp   Open   High    Low  Close  Volume_(BTC)  Volume_(Currency)  \\\n",
            "0  1417411980  300.0  300.0  300.0  300.0          0.01                3.0   \n",
            "1  1417412040    NaN    NaN    NaN    NaN           NaN                NaN   \n",
            "2  1417412100    NaN    NaN    NaN    NaN           NaN                NaN   \n",
            "3  1417412160    NaN    NaN    NaN    NaN           NaN                NaN   \n",
            "4  1417412220    NaN    NaN    NaN    NaN           NaN                NaN   \n",
            "\n",
            "   Weighted_Price  \n",
            "0           300.0  \n",
            "1             NaN  \n",
            "2             NaN  \n",
            "3             NaN  \n",
            "4             NaN  \n",
            "          Timestamp     Open     High      Low    Close  Volume_(BTC)  \\\n",
            "4363452  1587513360  6847.97  6856.35  6847.97  6856.35      0.125174   \n",
            "4363453  1587513420  6850.23  6856.13  6850.23  6850.89      1.224777   \n",
            "4363454  1587513480  6846.50  6857.45  6846.02  6857.45      7.089168   \n",
            "4363455  1587513540  6854.18  6854.98  6854.18  6854.98      0.012231   \n",
            "4363456  1587513600  6850.60  6850.60  6850.60  6850.60      0.014436   \n",
            "\n",
            "         Volume_(Currency)  Weighted_Price  \n",
            "4363452         858.128697     6855.498790  \n",
            "4363453        8396.781459     6855.763449  \n",
            "4363454       48533.089069     6846.090966  \n",
            "4363455          83.831604     6854.195090  \n",
            "4363456          98.896906     6850.600000  \n"
          ]
        }
      ]
    },
    {
      "cell_type": "code",
      "source": [
        "\"\"\"Task 3. Rename\n",
        "Rename the column Timestamp to Datetime.\n",
        "Convert the timestamp values to datatime values.\n",
        "Display only the Datetime and Close columns.\"\"\"\n",
        "# from_file = __import__('2-from_file').from_file\n",
        "\n",
        "df = from_file('/content/drive/MyDrive/Data/coinbaseUSD_1-min_data_2014-12-01_to_2019-01-09.csv', ',')\n",
        "df.rename(columns={'Timestamp': 'Datetime'}, inplace=True)\n",
        "\n",
        "df['Datetime'] = pd.to_datetime(df['Datetime'], unit='s')\n",
        "\n",
        "df = df[['Datetime', 'Close']]\n",
        "\n",
        "print(df.tail())"
      ],
      "metadata": {
        "colab": {
          "base_uri": "https://localhost:8080/"
        },
        "id": "tSAR7-BsiwAe",
        "outputId": "7a684e6e-ab64-45db-b364-a06daf59d84f"
      },
      "execution_count": 12,
      "outputs": [
        {
          "output_type": "stream",
          "name": "stdout",
          "text": [
            "                   Datetime    Close\n",
            "2099755 2019-01-07 22:02:00  4006.01\n",
            "2099756 2019-01-07 22:03:00  4006.01\n",
            "2099757 2019-01-07 22:04:00  4006.01\n",
            "2099758 2019-01-07 22:05:00  4005.50\n",
            "2099759 2019-01-07 22:06:00  4005.99\n"
          ]
        }
      ]
    },
    {
      "cell_type": "code",
      "source": [
        "\"\"\"4. To Numpy\n",
        "take the last 10 rows of the columns High and Close and\n",
        "convert them into a numpy.ndarray.\"\"\"\n",
        "# from_file = __import__('2-from_file').from_file\n",
        "\n",
        "df = from_file('/content/drive/MyDrive/Data/coinbaseUSD_1-min_data_2014-12-01_to_2019-01-09.csv', ',')\n",
        "\n",
        "A = df_selected = df[['High', 'Close']].tail(10)\n",
        "\n",
        "A = df_selected.to_numpy()\n",
        "\n",
        "print(A)"
      ],
      "metadata": {
        "colab": {
          "base_uri": "https://localhost:8080/"
        },
        "id": "nHb5VEYdcWNY",
        "outputId": "649f5279-be84-4650-ba04-11b5fa06df46"
      },
      "execution_count": 13,
      "outputs": [
        {
          "output_type": "stream",
          "name": "stdout",
          "text": [
            "[[4009.54 4007.01]\n",
            " [4007.01 4003.49]\n",
            " [4007.29 4006.57]\n",
            " [4006.57 4006.56]\n",
            " [4006.57 4006.01]\n",
            " [4006.57 4006.01]\n",
            " [4006.57 4006.01]\n",
            " [4006.01 4006.01]\n",
            " [4006.01 4005.5 ]\n",
            " [4006.01 4005.99]]\n"
          ]
        }
      ]
    },
    {
      "cell_type": "code",
      "source": [
        "# Task 5. Slice\n",
        "\"\"\"slice the pd.DataFrame along the columns High, Low, Close, and Volume_BTC,\n",
        "    taking every 60th row.\"\"\"\n",
        "# from_file = __import__('2-from_file').from_file\n",
        "\n",
        "df = from_file('/content/drive/MyDrive/Data/coinbaseUSD_1-min_data_2014-12-01_to_2019-01-09.csv', ',')\n",
        "\n",
        "df = df[['High', 'Low', 'Close', 'Volume_(BTC)']].iloc[::60]\n",
        "\n",
        "print(df.tail())\n"
      ],
      "metadata": {
        "colab": {
          "base_uri": "https://localhost:8080/"
        },
        "id": "4rj_5iXec2bX",
        "outputId": "91f8885a-c665-4b84-ed7e-ab92aea27e90"
      },
      "execution_count": 18,
      "outputs": [
        {
          "output_type": "stream",
          "name": "stdout",
          "text": [
            "            High      Low    Close  Volume_(BTC)\n",
            "2099460  4020.08  4020.07  4020.08      4.704989\n",
            "2099520  4020.94  4020.93  4020.94      2.111411\n",
            "2099580  4020.00  4019.01  4020.00      4.637035\n",
            "2099640  4017.00  4016.99  4017.00      2.362372\n",
            "2099700  4014.78  4013.50  4014.72      1.291557\n"
          ]
        }
      ]
    },
    {
      "cell_type": "code",
      "source": [
        "# Task 6. Flip it and Switch it\n",
        "\"\"\"Alter the pd.DataFrame such that the rows and columns are transposed\n",
        "and the data is sorted in reverse chronological order.\"\"\"\n",
        "\n",
        "# from_file = __import__('2-from_file').from_file\n",
        "\n",
        "df = from_file('/content/drive/MyDrive/Data/coinbaseUSD_1-min_data_2014-12-01_to_2019-01-09.csv', ',')\n",
        "\n",
        "df = df.T\n",
        "\n",
        "df.sort_index(ascending=False, inplace=True)\n",
        "\n",
        "print(df.tail(8))"
      ],
      "metadata": {
        "colab": {
          "base_uri": "https://localhost:8080/"
        },
        "id": "cMhjzwpWegw-",
        "outputId": "3cbe191f-482c-4750-99cb-face7055c6f8"
      },
      "execution_count": 20,
      "outputs": [
        {
          "output_type": "stream",
          "name": "stdout",
          "text": [
            "                        0             1             2             3        \\\n",
            "Weighted_Price     3.000000e+02           NaN           NaN           NaN   \n",
            "Volume_(Currency)  3.000000e+00           NaN           NaN           NaN   \n",
            "Volume_(BTC)       1.000000e-02           NaN           NaN           NaN   \n",
            "Timestamp          1.417412e+09  1.417412e+09  1.417412e+09  1.417412e+09   \n",
            "Open               3.000000e+02           NaN           NaN           NaN   \n",
            "Low                3.000000e+02           NaN           NaN           NaN   \n",
            "High               3.000000e+02           NaN           NaN           NaN   \n",
            "Close              3.000000e+02           NaN           NaN           NaN   \n",
            "\n",
            "                        4             5             6             7        \\\n",
            "Weighted_Price              NaN           NaN           NaN  3.000000e+02   \n",
            "Volume_(Currency)           NaN           NaN           NaN  3.000000e+00   \n",
            "Volume_(BTC)                NaN           NaN           NaN  1.000000e-02   \n",
            "Timestamp          1.417412e+09  1.417412e+09  1.417412e+09  1.417412e+09   \n",
            "Open                        NaN           NaN           NaN  3.000000e+02   \n",
            "Low                         NaN           NaN           NaN  3.000000e+02   \n",
            "High                        NaN           NaN           NaN  3.000000e+02   \n",
            "Close                       NaN           NaN           NaN  3.000000e+02   \n",
            "\n",
            "                        8             9        ...       2099750  \\\n",
            "Weighted_Price              NaN           NaN  ...  4.007993e+03   \n",
            "Volume_(Currency)           NaN           NaN  ...  1.819998e+04   \n",
            "Volume_(BTC)                NaN           NaN  ...  4.540920e+00   \n",
            "Timestamp          1.417412e+09  1.417413e+09  ...  1.546898e+09   \n",
            "Open                        NaN           NaN  ...  4.009540e+03   \n",
            "Low                         NaN           NaN  ...  4.007000e+03   \n",
            "High                        NaN           NaN  ...  4.009540e+03   \n",
            "Close                       NaN           NaN  ...  4.007010e+03   \n",
            "\n",
            "                        2099751       2099752       2099753       2099754  \\\n",
            "Weighted_Price     4.003925e+03  4.005441e+03  4.006561e+03  4.006419e+03   \n",
            "Volume_(Currency)  3.784576e+04  4.741754e+04  3.395870e+04  2.784951e+04   \n",
            "Volume_(BTC)       9.452163e+00  1.183828e+01  8.475772e+00  6.951222e+00   \n",
            "Timestamp          1.546898e+09  1.546898e+09  1.546898e+09  1.546898e+09   \n",
            "Open               4.007000e+03  4.003490e+03  4.006560e+03  4.006570e+03   \n",
            "Low                4.000240e+03  4.003490e+03  4.006560e+03  4.006000e+03   \n",
            "High               4.007010e+03  4.007290e+03  4.006570e+03  4.006570e+03   \n",
            "Close              4.003490e+03  4.006570e+03  4.006560e+03  4.006010e+03   \n",
            "\n",
            "                        2099755       2099756       2099757       2099758  \\\n",
            "Weighted_Price     4.006390e+03  4.006017e+03  4.006004e+03  4.005720e+03   \n",
            "Volume_(Currency)  1.355343e+04  3.614083e+03  4.775647e+03  1.081424e+04   \n",
            "Volume_(BTC)       3.382954e+00  9.021637e-01  1.192123e+00  2.699700e+00   \n",
            "Timestamp          1.546899e+09  1.546899e+09  1.546899e+09  1.546899e+09   \n",
            "Open               4.006010e+03  4.006010e+03  4.006010e+03  4.006010e+03   \n",
            "Low                4.006000e+03  4.006000e+03  4.006000e+03  4.005500e+03   \n",
            "High               4.006570e+03  4.006570e+03  4.006010e+03  4.006010e+03   \n",
            "Close              4.006010e+03  4.006010e+03  4.006010e+03  4.005500e+03   \n",
            "\n",
            "                        2099759  \n",
            "Weighted_Price     4.005746e+03  \n",
            "Volume_(Currency)  7.021184e+03  \n",
            "Volume_(BTC)       1.752778e+00  \n",
            "Timestamp          1.546899e+09  \n",
            "Open               4.005510e+03  \n",
            "Low                4.005510e+03  \n",
            "High               4.006010e+03  \n",
            "Close              4.005990e+03  \n",
            "\n",
            "[8 rows x 2099760 columns]\n"
          ]
        }
      ]
    },
    {
      "cell_type": "code",
      "source": [
        "# Task 7. Sort\n",
        "\"\"\"Sort the pd.DataFrame by the High price in descending order.\"\"\"\n",
        "\n",
        "# from_file = __import__('2-from_file').from_file\n",
        "\n",
        "df = from_file('/content/drive/MyDrive/Data/coinbaseUSD_1-min_data_2014-12-01_to_2019-01-09.csv', ',')\n",
        "\n",
        "df = df.sort_values('High', ascending=False)\n",
        "\n",
        "print(df.head())"
      ],
      "metadata": {
        "colab": {
          "base_uri": "https://localhost:8080/"
        },
        "id": "f5Hlj8PQe-by",
        "outputId": "3c554b21-d4fb-4c85-d97a-dcda89d71576"
      },
      "execution_count": 22,
      "outputs": [
        {
          "output_type": "stream",
          "name": "stdout",
          "text": [
            "          Timestamp      Open      High       Low     Close  Volume_(BTC)  \\\n",
            "1543350  1513514220  19891.99  19891.99  19891.98  19891.98      3.323210   \n",
            "1543352  1513514340  19891.99  19891.99  19891.98  19891.98      9.836946   \n",
            "1543351  1513514280  19891.99  19891.99  19891.98  19891.98      8.172155   \n",
            "1543349  1513514160  19891.00  19891.99  19890.99  19891.99      1.336512   \n",
            "1543353  1513514400  19891.99  19891.99  19876.22  19884.99     19.925151   \n",
            "\n",
            "         Volume_(Currency)  Weighted_Price  \n",
            "1543350       66105.250870    19891.984712  \n",
            "1543352      195676.363110    19891.983294  \n",
            "1543351      162560.403740    19891.987528  \n",
            "1543349       26584.930278    19891.272886  \n",
            "1543353      396292.881750    19889.078007  \n"
          ]
        }
      ]
    },
    {
      "cell_type": "code",
      "source": [
        "# Task 8. Prune\n",
        "\"\"\"Remove the entries in the pd.DataFrame where Close is NaN.\"\"\"\n",
        "\n",
        "# from_file = __import__('2-from_file').from_file\n",
        "\n",
        "df = from_file('/content/drive/MyDrive/Data/coinbaseUSD_1-min_data_2014-12-01_to_2019-01-09.csv', ',')\n",
        "\n",
        "df = df.dropna(subset=['Close'])\n",
        "\n",
        "print(df.head())"
      ],
      "metadata": {
        "colab": {
          "base_uri": "https://localhost:8080/"
        },
        "id": "z6j8kZw9f23h",
        "outputId": "fec04979-b091-49b2-80ff-d2b45a8fbcab"
      },
      "execution_count": 24,
      "outputs": [
        {
          "output_type": "stream",
          "name": "stdout",
          "text": [
            "       Timestamp   Open   High    Low  Close  Volume_(BTC)  Volume_(Currency)  \\\n",
            "0     1417411980  300.0  300.0  300.0  300.0      0.010000            3.00000   \n",
            "7     1417412400  300.0  300.0  300.0  300.0      0.010000            3.00000   \n",
            "51    1417415040  370.0  370.0  370.0  370.0      0.010000            3.70000   \n",
            "77    1417416600  370.0  370.0  370.0  370.0      0.026556            9.82555   \n",
            "1436  1417498140  377.0  377.0  377.0  377.0      0.010000            3.77000   \n",
            "\n",
            "      Weighted_Price  \n",
            "0              300.0  \n",
            "7              300.0  \n",
            "51             370.0  \n",
            "77             370.0  \n",
            "1436           377.0  \n"
          ]
        }
      ]
    },
    {
      "cell_type": "code",
      "source": [
        "# Task 9. Fill\n",
        "\"\"\"Fill in the missing data points in the pd.DataFrame.\n",
        "The column Weighted_Price should be removed.\n",
        "missing values in Close should be set to the previous row value.\n",
        "missing values in High, Low, Open should be set to the same row’s Close value\n",
        "missing values in Volume_(BTC) and Volume_(Currency) should be set to 0.\"\"\"\n",
        "\n",
        "# from_file = __import__('2-from_file').from_file\n",
        "\n",
        "df = from_file('/content/drive/MyDrive/Data/coinbaseUSD_1-min_data_2014-12-01_to_2019-01-09.csv', ',')\n",
        "\n",
        "df = df.drop(columns=['Weighted_Price'])\n",
        "\n",
        "df['Close'].fillna(method='ffill', inplace=True)\n",
        "\n",
        "for column in ['High', 'Low', 'Open']:\n",
        "    df[column].fillna(df['Close'], inplace=True)\n",
        "\n",
        "for column in ['Volume_(BTC)', 'Volume_(Currency)']:\n",
        "    df[column].fillna(0, inplace=True)\n",
        "\n",
        "\n",
        "print(df.head())\n",
        "print(df.tail())"
      ],
      "metadata": {
        "colab": {
          "base_uri": "https://localhost:8080/"
        },
        "id": "0O8sxQVVgQVG",
        "outputId": "edf335eb-1721-447d-d0d5-c371e3b81ccf"
      },
      "execution_count": 25,
      "outputs": [
        {
          "output_type": "stream",
          "name": "stdout",
          "text": [
            "    Timestamp   Open   High    Low  Close  Volume_(BTC)  Volume_(Currency)\n",
            "0  1417411980  300.0  300.0  300.0  300.0          0.01                3.0\n",
            "1  1417412040  300.0  300.0  300.0  300.0          0.00                0.0\n",
            "2  1417412100  300.0  300.0  300.0  300.0          0.00                0.0\n",
            "3  1417412160  300.0  300.0  300.0  300.0          0.00                0.0\n",
            "4  1417412220  300.0  300.0  300.0  300.0          0.00                0.0\n",
            "          Timestamp     Open     High      Low    Close  Volume_(BTC)  \\\n",
            "2099755  1546898520  4006.01  4006.57  4006.00  4006.01      3.382954   \n",
            "2099756  1546898580  4006.01  4006.57  4006.00  4006.01      0.902164   \n",
            "2099757  1546898640  4006.01  4006.01  4006.00  4006.01      1.192123   \n",
            "2099758  1546898700  4006.01  4006.01  4005.50  4005.50      2.699700   \n",
            "2099759  1546898760  4005.51  4006.01  4005.51  4005.99      1.752778   \n",
            "\n",
            "         Volume_(Currency)  \n",
            "2099755       13553.433078  \n",
            "2099756        3614.083168  \n",
            "2099757        4775.647308  \n",
            "2099758       10814.241898  \n",
            "2099759        7021.183546  \n"
          ]
        }
      ]
    },
    {
      "cell_type": "code",
      "source": [
        "# Task 10. Indexing\n",
        "\"\"\"Index the pd.DataFrame on the Timestamp column.\"\"\"\n",
        "# from_file = __import__('2-from_file').from_file\n",
        "\n",
        "df = from_file('/content/drive/MyDrive/Data/coinbaseUSD_1-min_data_2014-12-01_to_2019-01-09.csv', ',')\n",
        "\n",
        "df.set_index('Timestamp', inplace=True)\n",
        "\n",
        "print(df.tail())"
      ],
      "metadata": {
        "colab": {
          "base_uri": "https://localhost:8080/"
        },
        "id": "ejTlc9peg75g",
        "outputId": "68c13ad0-2b2a-41fd-b5b1-43bda65ddcb7"
      },
      "execution_count": 28,
      "outputs": [
        {
          "output_type": "stream",
          "name": "stdout",
          "text": [
            "               Open     High      Low    Close  Volume_(BTC)  \\\n",
            "Timestamp                                                      \n",
            "1546898520  4006.01  4006.57  4006.00  4006.01      3.382954   \n",
            "1546898580  4006.01  4006.57  4006.00  4006.01      0.902164   \n",
            "1546898640  4006.01  4006.01  4006.00  4006.01      1.192123   \n",
            "1546898700  4006.01  4006.01  4005.50  4005.50      2.699700   \n",
            "1546898760  4005.51  4006.01  4005.51  4005.99      1.752778   \n",
            "\n",
            "            Volume_(Currency)  Weighted_Price  \n",
            "Timestamp                                      \n",
            "1546898520       13553.433078     4006.390309  \n",
            "1546898580        3614.083168     4006.017232  \n",
            "1546898640        4775.647308     4006.003635  \n",
            "1546898700       10814.241898     4005.719991  \n",
            "1546898760        7021.183546     4005.745614  \n"
          ]
        }
      ]
    },
    {
      "cell_type": "code",
      "source": [
        "# Task 11. Concat\n",
        "\"\"\"Index the pd.DataFrames on the Timestamp columns and concatenate them:\n",
        "Concatenate the start of the bitstamp table onto the top of the coinbase table.\n",
        "Include all timestamps from bitstamp up to and including timestamp 1417411920.\n",
        "Add keys to the data labeled bitstamp and coinbase respectively.\"\"\"\n",
        "\n",
        "# from_file = __import__('2-from_file').from_file\n",
        "\n",
        "df1 = from_file('/content/drive/MyDrive/Data/coinbaseUSD_1-min_data_2014-12-01_to_2019-01-09.csv', ',')\n",
        "df2 = from_file('/content/drive/MyDrive/Data/bitstampUSD_1-min_data_2012-01-01_to_2020-04-22.csv', ',')\n",
        "\n",
        "df1 = from_file('/content/drive/MyDrive/Data/coinbaseUSD_1-min_data_2014-12-01_to_2019-01-09.csv', ',')\n",
        "df2 = from_file('/content/drive/MyDrive/Data/bitstampUSD_1-min_data_2012-01-01_to_2020-04-22.csv', ',')\n",
        "\n",
        "df1.set_index('Timestamp', inplace=True)\n",
        "df2.set_index('Timestamp', inplace=True)\n",
        "\n",
        "df2 = df2[df2.index <= 1417411920]\n",
        "\n",
        "df = pd.concat([df2, df1], keys=['bitstamp', 'coinbase'])\n",
        "\n",
        "print(df)"
      ],
      "metadata": {
        "colab": {
          "base_uri": "https://localhost:8080/"
        },
        "id": "AajrPFieh9Ze",
        "outputId": "a6066164-f4e3-45ee-826a-45811571a9c2"
      },
      "execution_count": 29,
      "outputs": [
        {
          "output_type": "stream",
          "name": "stdout",
          "text": [
            "                        Open     High      Low    Close  Volume_(BTC)  \\\n",
            "         Timestamp                                                      \n",
            "bitstamp 1325317920     4.39     4.39     4.39     4.39      0.455581   \n",
            "         1325317980      NaN      NaN      NaN      NaN           NaN   \n",
            "         1325318040      NaN      NaN      NaN      NaN           NaN   \n",
            "         1325318100      NaN      NaN      NaN      NaN           NaN   \n",
            "         1325318160      NaN      NaN      NaN      NaN           NaN   \n",
            "...                      ...      ...      ...      ...           ...   \n",
            "coinbase 1546898520  4006.01  4006.57  4006.00  4006.01      3.382954   \n",
            "         1546898580  4006.01  4006.57  4006.00  4006.01      0.902164   \n",
            "         1546898640  4006.01  4006.01  4006.00  4006.01      1.192123   \n",
            "         1546898700  4006.01  4006.01  4005.50  4005.50      2.699700   \n",
            "         1546898760  4005.51  4006.01  4005.51  4005.99      1.752778   \n",
            "\n",
            "                     Volume_(Currency)  Weighted_Price  \n",
            "         Timestamp                                      \n",
            "bitstamp 1325317920           2.000000        4.390000  \n",
            "         1325317980                NaN             NaN  \n",
            "         1325318040                NaN             NaN  \n",
            "         1325318100                NaN             NaN  \n",
            "         1325318160                NaN             NaN  \n",
            "...                                ...             ...  \n",
            "coinbase 1546898520       13553.433078     4006.390309  \n",
            "         1546898580        3614.083168     4006.017232  \n",
            "         1546898640        4775.647308     4006.003635  \n",
            "         1546898700       10814.241898     4005.719991  \n",
            "         1546898760        7021.183546     4005.745614  \n",
            "\n",
            "[3634661 rows x 7 columns]\n"
          ]
        }
      ]
    },
    {
      "cell_type": "code",
      "source": [
        "# Task 12. Hierarchy\n",
        "\"\"\"Rearrange the MultiIndex levels such that timestamp is the first level:\n",
        "    Concatenate th bitstamp and coinbase tables from timestamps\n",
        "        1417411980 to 1417417980, inclusive.\n",
        "    Add keys to the data labeled bitstamp and coinbase respectively.\n",
        "    Display the rows in chronological order.\"\"\"\n",
        "\n",
        "# from_file = __import__('2-from_file').from_file\n",
        "\n",
        "df1 = from_file('/content/drive/MyDrive/Data/coinbaseUSD_1-min_data_2014-12-01_to_2019-01-09.csv', ',')\n",
        "df2 = from_file('/content/drive/MyDrive/Data/bitstampUSD_1-min_data_2012-01-01_to_2020-04-22.csv', ',')\n",
        "\n",
        "df1.set_index('Timestamp', inplace=True)\n",
        "df2.set_index('Timestamp', inplace=True)\n",
        "\n",
        "df1 = df1[(df1.index >= 1417411980) & (df1.index <= 1417417980)]\n",
        "df2 = df2[(df2.index >= 1417411980) & (df2.index <= 1417417980)]\n",
        "\n",
        "df = pd.concat([df2, df1], keys=['bitstamp', 'coinbase'])\n",
        "\n",
        "df = df.swaplevel(0, 1).sort_index()\n",
        "\n",
        "print(df)"
      ],
      "metadata": {
        "colab": {
          "base_uri": "https://localhost:8080/"
        },
        "id": "HnSNE4Y8i5mg",
        "outputId": "d4720402-7f16-406b-cf53-0ce6d7a221f9"
      },
      "execution_count": 30,
      "outputs": [
        {
          "output_type": "stream",
          "name": "stdout",
          "text": [
            "                       Open   High     Low   Close  Volume_(BTC)  \\\n",
            "Timestamp                                                          \n",
            "1417411980 bitstamp  379.99  380.0  379.99  380.00      3.901265   \n",
            "           coinbase  300.00  300.0  300.00  300.00      0.010000   \n",
            "1417412040 bitstamp  380.00  380.0  380.00  380.00     35.249895   \n",
            "           coinbase     NaN    NaN     NaN     NaN           NaN   \n",
            "1417412100 bitstamp  380.00  380.0  380.00  380.00      3.712000   \n",
            "...                     ...    ...     ...     ...           ...   \n",
            "1417417860 coinbase     NaN    NaN     NaN     NaN           NaN   \n",
            "1417417920 bitstamp  380.09  380.1  380.09  380.10      1.503000   \n",
            "           coinbase     NaN    NaN     NaN     NaN           NaN   \n",
            "1417417980 bitstamp  380.10  380.1  378.85  378.85     26.599796   \n",
            "           coinbase     NaN    NaN     NaN     NaN           NaN   \n",
            "\n",
            "                     Volume_(Currency)  Weighted_Price  \n",
            "Timestamp                                               \n",
            "1417411980 bitstamp        1482.461708      379.995162  \n",
            "           coinbase           3.000000      300.000000  \n",
            "1417412040 bitstamp       13394.959997      380.000000  \n",
            "           coinbase                NaN             NaN  \n",
            "1417412100 bitstamp        1410.560000      380.000000  \n",
            "...                                ...             ...  \n",
            "1417417860 coinbase                NaN             NaN  \n",
            "1417417920 bitstamp         571.285290      380.096667  \n",
            "           coinbase                NaN             NaN  \n",
            "1417417980 bitstamp       10079.364182      378.926376  \n",
            "           coinbase                NaN             NaN  \n",
            "\n",
            "[202 rows x 7 columns]\n"
          ]
        }
      ]
    },
    {
      "cell_type": "code",
      "source": [
        "# Task 13. Analyze\n",
        "\"\"\"Calculate descriptive statistics for all columns in pd.DataFrame except Timestamp.\"\"\"\n",
        "\n",
        "# from_file = __import__('2-from_file').from_file\n",
        "\n",
        "df = from_file('/content/drive/MyDrive/Data/coinbaseUSD_1-min_data_2014-12-01_to_2019-01-09.csv', ',')\n",
        "\n",
        "df = df.drop(columns=['Timestamp'])\n",
        "\n",
        "stats = df.describe()\n",
        "\n",
        "print(stats)"
      ],
      "metadata": {
        "colab": {
          "base_uri": "https://localhost:8080/"
        },
        "id": "k6qk8CLtjqvr",
        "outputId": "8bfd44df-466a-4aaa-b883-81a4c834c6db"
      },
      "execution_count": 31,
      "outputs": [
        {
          "output_type": "stream",
          "name": "stdout",
          "text": [
            "               Open          High           Low         Close  Volume_(BTC)  \\\n",
            "count  1.990691e+06  1.990691e+06  1.990691e+06  1.990691e+06  1.990691e+06   \n",
            "mean   3.246403e+03  3.247829e+03  3.244856e+03  3.246403e+03  7.849139e+00   \n",
            "std    3.799154e+03  3.801394e+03  3.796761e+03  3.799150e+03  1.873222e+01   \n",
            "min    6.000000e-02  6.000000e-02  6.000000e-02  6.000000e-02  1.000000e-08   \n",
            "25%    4.195800e+02  4.196400e+02  4.195000e+02  4.195700e+02  9.024000e-01   \n",
            "50%    1.014580e+03  1.014890e+03  1.014150e+03  1.014530e+03  2.692900e+00   \n",
            "75%    6.322630e+03  6.324010e+03  6.321090e+03  6.322670e+03  7.600965e+00   \n",
            "max    1.989199e+04  1.989199e+04  1.989198e+04  1.989199e+04  1.563267e+03   \n",
            "\n",
            "       Volume_(Currency)  Weighted_Price  \n",
            "count       1.990691e+06    1.990691e+06  \n",
            "mean        3.600157e+04    3.246341e+03  \n",
            "std         1.401879e+05    3.799078e+03  \n",
            "min         2.641700e-06    6.000000e-02  \n",
            "25%         6.440031e+02    4.195645e+02  \n",
            "50%         3.695642e+03    1.014512e+03  \n",
            "75%         1.972392e+04    6.322550e+03  \n",
            "max         1.997076e+07    1.989199e+04  \n"
          ]
        }
      ]
    }
  ]
}